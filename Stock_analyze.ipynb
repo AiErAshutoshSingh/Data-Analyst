{
  "nbformat": 4,
  "nbformat_minor": 0,
  "metadata": {
    "colab": {
      "provenance": [],
      "include_colab_link": true
    },
    "kernelspec": {
      "name": "python3",
      "display_name": "Python 3"
    },
    "language_info": {
      "name": "python"
    }
  },
  "cells": [
    {
      "cell_type": "markdown",
      "metadata": {
        "id": "view-in-github",
        "colab_type": "text"
      },
      "source": [
        "<a href=\"https://colab.research.google.com/github/AiErAshutoshSingh/Data-Analyst/blob/main/Stock_analyze.ipynb\" target=\"_parent\"><img src=\"https://colab.research.google.com/assets/colab-badge.svg\" alt=\"Open In Colab\"/></a>"
      ]
    },
    {
      "cell_type": "markdown",
      "source": [
        "**Task**"
      ],
      "metadata": {
        "id": "7mL_aw-lBqzB"
      }
    },
    {
      "cell_type": "code",
      "source": [
        "import pandas as pd\n",
        "import os\n"
      ],
      "metadata": {
        "id": "DCtiVgw9BLh7"
      },
      "execution_count": 1,
      "outputs": []
    },
    {
      "cell_type": "code",
      "source": [
        "df = pd.read_csv('/content/stocks.csv')\n",
        "print(df.head())"
      ],
      "metadata": {
        "colab": {
          "base_uri": "https://localhost:8080/"
        },
        "id": "gmMK6iNNBLog",
        "outputId": "51e1c896-16df-4ec0-81c4-9ec4d99ee613"
      },
      "execution_count": 2,
      "outputs": [
        {
          "output_type": "stream",
          "name": "stdout",
          "text": [
            "         date   open   high    low  close    volume Name\n",
            "0  2013-02-08  15.07  15.12  14.63  14.75   8407500  AAL\n",
            "1  2013-02-11  14.89  15.01  14.26  14.46   8882000  AAL\n",
            "2  2013-02-12  14.45  14.51  14.10  14.27   8126000  AAL\n",
            "3  2013-02-13  14.30  14.94  14.25  14.66  10259500  AAL\n",
            "4  2013-02-14  14.94  14.96  13.16  13.99  31879900  AAL\n"
          ]
        }
      ]
    },
    {
      "cell_type": "markdown",
      "source": [
        "**Calculate average closing price for each ticker**"
      ],
      "metadata": {
        "id": "NDWuVUTVCv_9"
      }
    },
    {
      "cell_type": "code",
      "source": [
        "avg_prices = df.groupby('Name')['close'].mean().reset_index()\n",
        "avg_prices.rename(columns={'close': 'avgPrice'}, inplace=True)"
      ],
      "metadata": {
        "id": "0vU8OG_gBLum"
      },
      "execution_count": 3,
      "outputs": []
    },
    {
      "cell_type": "code",
      "source": [
        "avg_prices.to_csv('stock_data.csv', index=False)\n",
        "print(\"Saving'stock_data.csv' with average prices.\")\n"
      ],
      "metadata": {
        "colab": {
          "base_uri": "https://localhost:8080/"
        },
        "id": "JYFrq5SxBL23",
        "outputId": "04b66826-dd20-4bcc-93f1-17a426d20ff4"
      },
      "execution_count": 4,
      "outputs": [
        {
          "output_type": "stream",
          "name": "stdout",
          "text": [
            "Saving'stock_data.csv' with average prices.\n"
          ]
        }
      ]
    },
    {
      "cell_type": "code",
      "source": [
        "if not os.path.exists('data'):\n",
        "    os.makedirs('data')\n",
        "\n",
        "for name, group in df.groupby('Name'):\n",
        "    group = group.sort_values('date')\n",
        "    group['pct_change'] = group['close'].pct_change() * 100\n",
        "    output_path = f\"data/{name}.csv\"\n",
        "    group.to_csv(output_path, index=False)\n",
        "\n",
        "print(\"Daily change CSVs saved in 'data/' folder.\")"
      ],
      "metadata": {
        "colab": {
          "base_uri": "https://localhost:8080/"
        },
        "id": "z-pBsOVfCQjE",
        "outputId": "ab12bbba-e224-4a7b-a7a0-b54268bc43b7"
      },
      "execution_count": 6,
      "outputs": [
        {
          "output_type": "stream",
          "name": "stdout",
          "text": [
            "Daily change CSVs saved in 'data/' folder.\n"
          ]
        }
      ]
    },
    {
      "cell_type": "markdown",
      "source": [
        "**Task2**"
      ],
      "metadata": {
        "id": "1VohUDqKC8Wf"
      }
    },
    {
      "cell_type": "code",
      "source": [
        "if not os.path.exists('monthData'):\n",
        "    os.makedirs('monthData')\n",
        "\n",
        "df['date'] = pd.to_datetime(df['date'])\n",
        "\n",
        "\n",
        "tickers = df['Name'].unique()\n",
        "\n",
        "for ticker in tickers:\n",
        "    ticker_df = df[df['Name'] == ticker].sort_values('date').copy()\n",
        "    ticker_df.set_index('date', inplace=True)\n",
        "    monthly = ticker_df.resample('M').agg({\n",
        "        'open': 'mean',\n",
        "        'high': 'mean',\n",
        "        'low': 'mean',\n",
        "        'close': 'mean',\n",
        "        'volume': 'sum'\n",
        "    }).reset_index()\n",
        "    monthly.to_csv(f'monthData/{ticker}.csv', index=False)\n",
        "\n",
        "    data_path = f'data/{ticker}.csv'\n",
        "    if os.path.exists(data_path):\n",
        "        ticker_data = pd.read_csv(data_path)\n",
        "        ticker_data['date'] = pd.to_datetime(ticker_data['date'])\n",
        "        ticker_data = ticker_data.sort_values('date')\n",
        "        ticker_data['rolling_30'] = ticker_data['close'].rolling(window=30).mean()\n",
        "        ticker_data.to_csv(data_path, index=False)\n",
        "\n",
        "print(\" Monthly data saved in 'monthData/', and rolling average added to 'data/' files.\")\n"
      ],
      "metadata": {
        "colab": {
          "base_uri": "https://localhost:8080/"
        },
        "id": "DTVkRSxpDBcF",
        "outputId": "6fb7cd7c-f639-4ead-ff39-27caaa2ede9d"
      },
      "execution_count": 8,
      "outputs": [
        {
          "output_type": "stream",
          "name": "stderr",
          "text": [
            "/tmp/ipython-input-8-1004482748.py:12: FutureWarning: 'M' is deprecated and will be removed in a future version, please use 'ME' instead.\n",
            "  monthly = ticker_df.resample('M').agg({\n",
            "/tmp/ipython-input-8-1004482748.py:12: FutureWarning: 'M' is deprecated and will be removed in a future version, please use 'ME' instead.\n",
            "  monthly = ticker_df.resample('M').agg({\n",
            "/tmp/ipython-input-8-1004482748.py:12: FutureWarning: 'M' is deprecated and will be removed in a future version, please use 'ME' instead.\n",
            "  monthly = ticker_df.resample('M').agg({\n",
            "/tmp/ipython-input-8-1004482748.py:12: FutureWarning: 'M' is deprecated and will be removed in a future version, please use 'ME' instead.\n",
            "  monthly = ticker_df.resample('M').agg({\n",
            "/tmp/ipython-input-8-1004482748.py:12: FutureWarning: 'M' is deprecated and will be removed in a future version, please use 'ME' instead.\n",
            "  monthly = ticker_df.resample('M').agg({\n",
            "/tmp/ipython-input-8-1004482748.py:12: FutureWarning: 'M' is deprecated and will be removed in a future version, please use 'ME' instead.\n",
            "  monthly = ticker_df.resample('M').agg({\n",
            "/tmp/ipython-input-8-1004482748.py:12: FutureWarning: 'M' is deprecated and will be removed in a future version, please use 'ME' instead.\n",
            "  monthly = ticker_df.resample('M').agg({\n",
            "/tmp/ipython-input-8-1004482748.py:12: FutureWarning: 'M' is deprecated and will be removed in a future version, please use 'ME' instead.\n",
            "  monthly = ticker_df.resample('M').agg({\n",
            "/tmp/ipython-input-8-1004482748.py:12: FutureWarning: 'M' is deprecated and will be removed in a future version, please use 'ME' instead.\n",
            "  monthly = ticker_df.resample('M').agg({\n",
            "/tmp/ipython-input-8-1004482748.py:12: FutureWarning: 'M' is deprecated and will be removed in a future version, please use 'ME' instead.\n",
            "  monthly = ticker_df.resample('M').agg({\n",
            "/tmp/ipython-input-8-1004482748.py:12: FutureWarning: 'M' is deprecated and will be removed in a future version, please use 'ME' instead.\n",
            "  monthly = ticker_df.resample('M').agg({\n",
            "/tmp/ipython-input-8-1004482748.py:12: FutureWarning: 'M' is deprecated and will be removed in a future version, please use 'ME' instead.\n",
            "  monthly = ticker_df.resample('M').agg({\n",
            "/tmp/ipython-input-8-1004482748.py:12: FutureWarning: 'M' is deprecated and will be removed in a future version, please use 'ME' instead.\n",
            "  monthly = ticker_df.resample('M').agg({\n",
            "/tmp/ipython-input-8-1004482748.py:12: FutureWarning: 'M' is deprecated and will be removed in a future version, please use 'ME' instead.\n",
            "  monthly = ticker_df.resample('M').agg({\n",
            "/tmp/ipython-input-8-1004482748.py:12: FutureWarning: 'M' is deprecated and will be removed in a future version, please use 'ME' instead.\n",
            "  monthly = ticker_df.resample('M').agg({\n",
            "/tmp/ipython-input-8-1004482748.py:12: FutureWarning: 'M' is deprecated and will be removed in a future version, please use 'ME' instead.\n",
            "  monthly = ticker_df.resample('M').agg({\n",
            "/tmp/ipython-input-8-1004482748.py:12: FutureWarning: 'M' is deprecated and will be removed in a future version, please use 'ME' instead.\n",
            "  monthly = ticker_df.resample('M').agg({\n",
            "/tmp/ipython-input-8-1004482748.py:12: FutureWarning: 'M' is deprecated and will be removed in a future version, please use 'ME' instead.\n",
            "  monthly = ticker_df.resample('M').agg({\n",
            "/tmp/ipython-input-8-1004482748.py:12: FutureWarning: 'M' is deprecated and will be removed in a future version, please use 'ME' instead.\n",
            "  monthly = ticker_df.resample('M').agg({\n",
            "/tmp/ipython-input-8-1004482748.py:12: FutureWarning: 'M' is deprecated and will be removed in a future version, please use 'ME' instead.\n",
            "  monthly = ticker_df.resample('M').agg({\n",
            "/tmp/ipython-input-8-1004482748.py:12: FutureWarning: 'M' is deprecated and will be removed in a future version, please use 'ME' instead.\n",
            "  monthly = ticker_df.resample('M').agg({\n",
            "/tmp/ipython-input-8-1004482748.py:12: FutureWarning: 'M' is deprecated and will be removed in a future version, please use 'ME' instead.\n",
            "  monthly = ticker_df.resample('M').agg({\n",
            "/tmp/ipython-input-8-1004482748.py:12: FutureWarning: 'M' is deprecated and will be removed in a future version, please use 'ME' instead.\n",
            "  monthly = ticker_df.resample('M').agg({\n",
            "/tmp/ipython-input-8-1004482748.py:12: FutureWarning: 'M' is deprecated and will be removed in a future version, please use 'ME' instead.\n",
            "  monthly = ticker_df.resample('M').agg({\n",
            "/tmp/ipython-input-8-1004482748.py:12: FutureWarning: 'M' is deprecated and will be removed in a future version, please use 'ME' instead.\n",
            "  monthly = ticker_df.resample('M').agg({\n",
            "/tmp/ipython-input-8-1004482748.py:12: FutureWarning: 'M' is deprecated and will be removed in a future version, please use 'ME' instead.\n",
            "  monthly = ticker_df.resample('M').agg({\n",
            "/tmp/ipython-input-8-1004482748.py:12: FutureWarning: 'M' is deprecated and will be removed in a future version, please use 'ME' instead.\n",
            "  monthly = ticker_df.resample('M').agg({\n",
            "/tmp/ipython-input-8-1004482748.py:12: FutureWarning: 'M' is deprecated and will be removed in a future version, please use 'ME' instead.\n",
            "  monthly = ticker_df.resample('M').agg({\n",
            "/tmp/ipython-input-8-1004482748.py:12: FutureWarning: 'M' is deprecated and will be removed in a future version, please use 'ME' instead.\n",
            "  monthly = ticker_df.resample('M').agg({\n",
            "/tmp/ipython-input-8-1004482748.py:12: FutureWarning: 'M' is deprecated and will be removed in a future version, please use 'ME' instead.\n",
            "  monthly = ticker_df.resample('M').agg({\n",
            "/tmp/ipython-input-8-1004482748.py:12: FutureWarning: 'M' is deprecated and will be removed in a future version, please use 'ME' instead.\n",
            "  monthly = ticker_df.resample('M').agg({\n",
            "/tmp/ipython-input-8-1004482748.py:12: FutureWarning: 'M' is deprecated and will be removed in a future version, please use 'ME' instead.\n",
            "  monthly = ticker_df.resample('M').agg({\n",
            "/tmp/ipython-input-8-1004482748.py:12: FutureWarning: 'M' is deprecated and will be removed in a future version, please use 'ME' instead.\n",
            "  monthly = ticker_df.resample('M').agg({\n",
            "/tmp/ipython-input-8-1004482748.py:12: FutureWarning: 'M' is deprecated and will be removed in a future version, please use 'ME' instead.\n",
            "  monthly = ticker_df.resample('M').agg({\n",
            "/tmp/ipython-input-8-1004482748.py:12: FutureWarning: 'M' is deprecated and will be removed in a future version, please use 'ME' instead.\n",
            "  monthly = ticker_df.resample('M').agg({\n",
            "/tmp/ipython-input-8-1004482748.py:12: FutureWarning: 'M' is deprecated and will be removed in a future version, please use 'ME' instead.\n",
            "  monthly = ticker_df.resample('M').agg({\n",
            "/tmp/ipython-input-8-1004482748.py:12: FutureWarning: 'M' is deprecated and will be removed in a future version, please use 'ME' instead.\n",
            "  monthly = ticker_df.resample('M').agg({\n",
            "/tmp/ipython-input-8-1004482748.py:12: FutureWarning: 'M' is deprecated and will be removed in a future version, please use 'ME' instead.\n",
            "  monthly = ticker_df.resample('M').agg({\n",
            "/tmp/ipython-input-8-1004482748.py:12: FutureWarning: 'M' is deprecated and will be removed in a future version, please use 'ME' instead.\n",
            "  monthly = ticker_df.resample('M').agg({\n",
            "/tmp/ipython-input-8-1004482748.py:12: FutureWarning: 'M' is deprecated and will be removed in a future version, please use 'ME' instead.\n",
            "  monthly = ticker_df.resample('M').agg({\n",
            "/tmp/ipython-input-8-1004482748.py:12: FutureWarning: 'M' is deprecated and will be removed in a future version, please use 'ME' instead.\n",
            "  monthly = ticker_df.resample('M').agg({\n",
            "/tmp/ipython-input-8-1004482748.py:12: FutureWarning: 'M' is deprecated and will be removed in a future version, please use 'ME' instead.\n",
            "  monthly = ticker_df.resample('M').agg({\n",
            "/tmp/ipython-input-8-1004482748.py:12: FutureWarning: 'M' is deprecated and will be removed in a future version, please use 'ME' instead.\n",
            "  monthly = ticker_df.resample('M').agg({\n",
            "/tmp/ipython-input-8-1004482748.py:12: FutureWarning: 'M' is deprecated and will be removed in a future version, please use 'ME' instead.\n",
            "  monthly = ticker_df.resample('M').agg({\n",
            "/tmp/ipython-input-8-1004482748.py:12: FutureWarning: 'M' is deprecated and will be removed in a future version, please use 'ME' instead.\n",
            "  monthly = ticker_df.resample('M').agg({\n",
            "/tmp/ipython-input-8-1004482748.py:12: FutureWarning: 'M' is deprecated and will be removed in a future version, please use 'ME' instead.\n",
            "  monthly = ticker_df.resample('M').agg({\n",
            "/tmp/ipython-input-8-1004482748.py:12: FutureWarning: 'M' is deprecated and will be removed in a future version, please use 'ME' instead.\n",
            "  monthly = ticker_df.resample('M').agg({\n",
            "/tmp/ipython-input-8-1004482748.py:12: FutureWarning: 'M' is deprecated and will be removed in a future version, please use 'ME' instead.\n",
            "  monthly = ticker_df.resample('M').agg({\n",
            "/tmp/ipython-input-8-1004482748.py:12: FutureWarning: 'M' is deprecated and will be removed in a future version, please use 'ME' instead.\n",
            "  monthly = ticker_df.resample('M').agg({\n",
            "/tmp/ipython-input-8-1004482748.py:12: FutureWarning: 'M' is deprecated and will be removed in a future version, please use 'ME' instead.\n",
            "  monthly = ticker_df.resample('M').agg({\n",
            "/tmp/ipython-input-8-1004482748.py:12: FutureWarning: 'M' is deprecated and will be removed in a future version, please use 'ME' instead.\n",
            "  monthly = ticker_df.resample('M').agg({\n",
            "/tmp/ipython-input-8-1004482748.py:12: FutureWarning: 'M' is deprecated and will be removed in a future version, please use 'ME' instead.\n",
            "  monthly = ticker_df.resample('M').agg({\n",
            "/tmp/ipython-input-8-1004482748.py:12: FutureWarning: 'M' is deprecated and will be removed in a future version, please use 'ME' instead.\n",
            "  monthly = ticker_df.resample('M').agg({\n",
            "/tmp/ipython-input-8-1004482748.py:12: FutureWarning: 'M' is deprecated and will be removed in a future version, please use 'ME' instead.\n",
            "  monthly = ticker_df.resample('M').agg({\n",
            "/tmp/ipython-input-8-1004482748.py:12: FutureWarning: 'M' is deprecated and will be removed in a future version, please use 'ME' instead.\n",
            "  monthly = ticker_df.resample('M').agg({\n",
            "/tmp/ipython-input-8-1004482748.py:12: FutureWarning: 'M' is deprecated and will be removed in a future version, please use 'ME' instead.\n",
            "  monthly = ticker_df.resample('M').agg({\n",
            "/tmp/ipython-input-8-1004482748.py:12: FutureWarning: 'M' is deprecated and will be removed in a future version, please use 'ME' instead.\n",
            "  monthly = ticker_df.resample('M').agg({\n",
            "/tmp/ipython-input-8-1004482748.py:12: FutureWarning: 'M' is deprecated and will be removed in a future version, please use 'ME' instead.\n",
            "  monthly = ticker_df.resample('M').agg({\n",
            "/tmp/ipython-input-8-1004482748.py:12: FutureWarning: 'M' is deprecated and will be removed in a future version, please use 'ME' instead.\n",
            "  monthly = ticker_df.resample('M').agg({\n",
            "/tmp/ipython-input-8-1004482748.py:12: FutureWarning: 'M' is deprecated and will be removed in a future version, please use 'ME' instead.\n",
            "  monthly = ticker_df.resample('M').agg({\n",
            "/tmp/ipython-input-8-1004482748.py:12: FutureWarning: 'M' is deprecated and will be removed in a future version, please use 'ME' instead.\n",
            "  monthly = ticker_df.resample('M').agg({\n",
            "/tmp/ipython-input-8-1004482748.py:12: FutureWarning: 'M' is deprecated and will be removed in a future version, please use 'ME' instead.\n",
            "  monthly = ticker_df.resample('M').agg({\n",
            "/tmp/ipython-input-8-1004482748.py:12: FutureWarning: 'M' is deprecated and will be removed in a future version, please use 'ME' instead.\n",
            "  monthly = ticker_df.resample('M').agg({\n",
            "/tmp/ipython-input-8-1004482748.py:12: FutureWarning: 'M' is deprecated and will be removed in a future version, please use 'ME' instead.\n",
            "  monthly = ticker_df.resample('M').agg({\n",
            "/tmp/ipython-input-8-1004482748.py:12: FutureWarning: 'M' is deprecated and will be removed in a future version, please use 'ME' instead.\n",
            "  monthly = ticker_df.resample('M').agg({\n",
            "/tmp/ipython-input-8-1004482748.py:12: FutureWarning: 'M' is deprecated and will be removed in a future version, please use 'ME' instead.\n",
            "  monthly = ticker_df.resample('M').agg({\n",
            "/tmp/ipython-input-8-1004482748.py:12: FutureWarning: 'M' is deprecated and will be removed in a future version, please use 'ME' instead.\n",
            "  monthly = ticker_df.resample('M').agg({\n",
            "/tmp/ipython-input-8-1004482748.py:12: FutureWarning: 'M' is deprecated and will be removed in a future version, please use 'ME' instead.\n",
            "  monthly = ticker_df.resample('M').agg({\n",
            "/tmp/ipython-input-8-1004482748.py:12: FutureWarning: 'M' is deprecated and will be removed in a future version, please use 'ME' instead.\n",
            "  monthly = ticker_df.resample('M').agg({\n",
            "/tmp/ipython-input-8-1004482748.py:12: FutureWarning: 'M' is deprecated and will be removed in a future version, please use 'ME' instead.\n",
            "  monthly = ticker_df.resample('M').agg({\n"
          ]
        },
        {
          "output_type": "stream",
          "name": "stdout",
          "text": [
            " Monthly data saved in 'monthData/', and rolling average added to 'data/' files.\n"
          ]
        },
        {
          "output_type": "stream",
          "name": "stderr",
          "text": [
            "/tmp/ipython-input-8-1004482748.py:12: FutureWarning: 'M' is deprecated and will be removed in a future version, please use 'ME' instead.\n",
            "  monthly = ticker_df.resample('M').agg({\n",
            "/tmp/ipython-input-8-1004482748.py:12: FutureWarning: 'M' is deprecated and will be removed in a future version, please use 'ME' instead.\n",
            "  monthly = ticker_df.resample('M').agg({\n",
            "/tmp/ipython-input-8-1004482748.py:12: FutureWarning: 'M' is deprecated and will be removed in a future version, please use 'ME' instead.\n",
            "  monthly = ticker_df.resample('M').agg({\n",
            "/tmp/ipython-input-8-1004482748.py:12: FutureWarning: 'M' is deprecated and will be removed in a future version, please use 'ME' instead.\n",
            "  monthly = ticker_df.resample('M').agg({\n"
          ]
        }
      ]
    },
    {
      "cell_type": "markdown",
      "source": [
        "**Task3**"
      ],
      "metadata": {
        "id": "tQGGO3JqDjp8"
      }
    },
    {
      "cell_type": "code",
      "source": [
        "fund_df = pd.read_csv('/content/fundamentals.csv')\n",
        "price_df = pd.read_csv('/content/prices.csv')\n",
        "print(\"Fundamentals Columns:\", fund_df.columns.tolist())\n",
        "print(\"prices Clumn:\",price_df.columns.tolist() )"
      ],
      "metadata": {
        "colab": {
          "base_uri": "https://localhost:8080/"
        },
        "id": "g8viNKwKDgVU",
        "outputId": "badb29d0-152e-4501-9c4e-70f65106087a"
      },
      "execution_count": 19,
      "outputs": [
        {
          "output_type": "stream",
          "name": "stdout",
          "text": [
            "Fundamentals Columns: ['Ticker', 'Shortname', 'Sector', 'Marketcap', 'Ebitda', 'Revenuegrowth', 'City', 'Weight']\n",
            "prices Clumn: ['Ticker', 'Name', 'Currentprice']\n"
          ]
        }
      ]
    },
    {
      "cell_type": "code",
      "source": [
        "merged_df = pd.merge(fund_df, price_df, on='Ticker')\n"
      ],
      "metadata": {
        "id": "VtQO0FwTEJdT"
      },
      "execution_count": 10,
      "outputs": []
    },
    {
      "cell_type": "code",
      "source": [
        "merged_df['MC_Price_Ratio'] = merged_df['Marketcap'] / merged_df['Currentprice']\n"
      ],
      "metadata": {
        "id": "mqhm-EdREa9P"
      },
      "execution_count": 20,
      "outputs": []
    },
    {
      "cell_type": "code",
      "source": [
        "merged_df.to_csv('stockInfo.csv', index=False)\n",
        "\n",
        "print(\" stockInfo saved with MarketCap/Price ratio.\")"
      ],
      "metadata": {
        "colab": {
          "base_uri": "https://localhost:8080/"
        },
        "id": "S_tu5IbfELKc",
        "outputId": "a170fa91-3ab5-4321-9a5c-a18213741d1e"
      },
      "execution_count": 21,
      "outputs": [
        {
          "output_type": "stream",
          "name": "stdout",
          "text": [
            " stockInfo saved with MarketCap/Price ratio.\n"
          ]
        }
      ]
    },
    {
      "cell_type": "markdown",
      "source": [
        "**Task4**"
      ],
      "metadata": {
        "id": "mImDOnsNFwqx"
      }
    },
    {
      "cell_type": "markdown",
      "source": [],
      "metadata": {
        "id": "SbfmWSXlHVeu"
      }
    },
    {
      "cell_type": "code",
      "source": [
        "folder_path = '/content/monthData'"
      ],
      "metadata": {
        "id": "3vg1Z-pYHVrp"
      },
      "execution_count": 25,
      "outputs": []
    },
    {
      "cell_type": "code",
      "source": [
        "for filename in os.listdir(folder_path):\n",
        "    if filename.endswith('.csv'):\n",
        "        ticker = filename.replace('.csv', '')\n",
        "        file_path = os.path.join(folder_path, filename)"
      ],
      "metadata": {
        "id": "yp7NX7Q9FzIU"
      },
      "execution_count": 26,
      "outputs": []
    },
    {
      "cell_type": "code",
      "source": [
        "import pandas as pd\n",
        "import os\n",
        "\n",
        "folder_path = '/content/monthData'  # Adjust if needed\n",
        "\n",
        "for filename in os.listdir(folder_path):\n",
        "    if filename.endswith('.csv'):\n",
        "        ticker = filename.replace('.csv', '')\n",
        "        file_path = os.path.join(folder_path, filename)\n",
        "\n",
        "        df = pd.read_csv(file_path)\n",
        "\n",
        "        # Check if required columns are present\n",
        "        if 'date' not in df.columns or 'close' not in df.columns:\n",
        "            print(f\"⚠️ Skipping {filename}: missing 'date' or 'close' column.\")\n",
        "            continue\n",
        "\n",
        "        # Check if DataFrame is empty\n",
        "        if df.empty:\n",
        "            print(f\"⚠️ Skipping {filename}: file is empty.\")\n",
        "            continue\n",
        "        df['date'] = pd.to_datetime(df['date'])\n",
        "        df = df.sort_values('date').reset_index(drop=True)\n",
        "        buy_price = df.loc[0, 'close']\n",
        "        df['pnl'] = df['close'] - buy_price\n",
        "        df['cumulative_pnl'] = df['pnl'].cumsum()\n",
        "        df['drawdown'] = df['cumulative_pnl'] - df['cumulative_pnl'].cummax()\n",
        "\n",
        "        df.to_csv(file_path, index=False)\n",
        "        print(f\"✅ Updated {filename} with pnl, cumulative_pnl, and drawdown.\")\n",
        "\n",
        "print(\" All files in 'monthData/' processed safely.\")\n"
      ],
      "metadata": {
        "colab": {
          "base_uri": "https://localhost:8080/"
        },
        "id": "AvA7LXPbHm1g",
        "outputId": "8b398c2a-0107-4530-ec3c-c6f5c94e0692"
      },
      "execution_count": 30,
      "outputs": [
        {
          "output_type": "stream",
          "name": "stdout",
          "text": [
            "✅ Updated BK.csv with pnl, cumulative_pnl, and drawdown.\n",
            "✅ Updated BAC.csv with pnl, cumulative_pnl, and drawdown.\n",
            "✅ Updated AMGN.csv with pnl, cumulative_pnl, and drawdown.\n",
            "✅ Updated ABBV.csv with pnl, cumulative_pnl, and drawdown.\n",
            "✅ Updated ADM.csv with pnl, cumulative_pnl, and drawdown.\n",
            "✅ Updated AIZ.csv with pnl, cumulative_pnl, and drawdown.\n",
            "✅ Updated APD.csv with pnl, cumulative_pnl, and drawdown.\n",
            "✅ Updated BLK.csv with pnl, cumulative_pnl, and drawdown.\n",
            "✅ Updated AIG.csv with pnl, cumulative_pnl, and drawdown.\n",
            "✅ Updated BF.B.csv with pnl, cumulative_pnl, and drawdown.\n",
            "✅ Updated BIIB.csv with pnl, cumulative_pnl, and drawdown.\n",
            "✅ Updated AFL.csv with pnl, cumulative_pnl, and drawdown.\n",
            "✅ Updated ALXN.csv with pnl, cumulative_pnl, and drawdown.\n",
            "✅ Updated AEE.csv with pnl, cumulative_pnl, and drawdown.\n",
            "✅ Updated ANTM.csv with pnl, cumulative_pnl, and drawdown.\n",
            "✅ Updated ADBE.csv with pnl, cumulative_pnl, and drawdown.\n",
            "✅ Updated APH.csv with pnl, cumulative_pnl, and drawdown.\n",
            "✅ Updated AES.csv with pnl, cumulative_pnl, and drawdown.\n",
            "✅ Updated AWK.csv with pnl, cumulative_pnl, and drawdown.\n",
            "✅ Updated AJG.csv with pnl, cumulative_pnl, and drawdown.\n",
            "⚠️ Skipping nan.csv: file is empty.\n",
            "✅ Updated AIV.csv with pnl, cumulative_pnl, and drawdown.\n",
            "✅ Updated ALGN.csv with pnl, cumulative_pnl, and drawdown.\n",
            "✅ Updated ACN.csv with pnl, cumulative_pnl, and drawdown.\n",
            "✅ Updated ALK.csv with pnl, cumulative_pnl, and drawdown.\n",
            "✅ Updated AYI.csv with pnl, cumulative_pnl, and drawdown.\n",
            "✅ Updated AGN.csv with pnl, cumulative_pnl, and drawdown.\n",
            "✅ Updated ALB.csv with pnl, cumulative_pnl, and drawdown.\n",
            "✅ Updated AMAT.csv with pnl, cumulative_pnl, and drawdown.\n",
            "✅ Updated A.csv with pnl, cumulative_pnl, and drawdown.\n",
            "✅ Updated ADP.csv with pnl, cumulative_pnl, and drawdown.\n",
            "✅ Updated ALL.csv with pnl, cumulative_pnl, and drawdown.\n",
            "✅ Updated AMT.csv with pnl, cumulative_pnl, and drawdown.\n",
            "✅ Updated BHGE.csv with pnl, cumulative_pnl, and drawdown.\n",
            "✅ Updated AAP.csv with pnl, cumulative_pnl, and drawdown.\n",
            "✅ Updated ATVI.csv with pnl, cumulative_pnl, and drawdown.\n",
            "✅ Updated AXP.csv with pnl, cumulative_pnl, and drawdown.\n",
            "✅ Updated AMZN.csv with pnl, cumulative_pnl, and drawdown.\n",
            "✅ Updated AEP.csv with pnl, cumulative_pnl, and drawdown.\n",
            "✅ Updated AMG.csv with pnl, cumulative_pnl, and drawdown.\n",
            "✅ Updated AVB.csv with pnl, cumulative_pnl, and drawdown.\n",
            "✅ Updated AAPL.csv with pnl, cumulative_pnl, and drawdown.\n",
            "✅ Updated AZO.csv with pnl, cumulative_pnl, and drawdown.\n",
            "✅ Updated ADI.csv with pnl, cumulative_pnl, and drawdown.\n",
            "✅ Updated ABT.csv with pnl, cumulative_pnl, and drawdown.\n",
            "✅ Updated BEN.csv with pnl, cumulative_pnl, and drawdown.\n",
            "✅ Updated AVY.csv with pnl, cumulative_pnl, and drawdown.\n",
            "✅ Updated AMP.csv with pnl, cumulative_pnl, and drawdown.\n",
            "✅ Updated APA.csv with pnl, cumulative_pnl, and drawdown.\n",
            "✅ Updated BHF.csv with pnl, cumulative_pnl, and drawdown.\n",
            "✅ Updated APTV.csv with pnl, cumulative_pnl, and drawdown.\n",
            "✅ Updated APC.csv with pnl, cumulative_pnl, and drawdown.\n",
            "✅ Updated BBT.csv with pnl, cumulative_pnl, and drawdown.\n",
            "✅ Updated AOS.csv with pnl, cumulative_pnl, and drawdown.\n",
            "✅ Updated ANSS.csv with pnl, cumulative_pnl, and drawdown.\n",
            "✅ Updated BBY.csv with pnl, cumulative_pnl, and drawdown.\n",
            "✅ Updated ARNC.csv with pnl, cumulative_pnl, and drawdown.\n",
            "✅ Updated ADSK.csv with pnl, cumulative_pnl, and drawdown.\n",
            "✅ Updated ARE.csv with pnl, cumulative_pnl, and drawdown.\n",
            "✅ Updated AKAM.csv with pnl, cumulative_pnl, and drawdown.\n",
            "✅ Updated BA.csv with pnl, cumulative_pnl, and drawdown.\n",
            "✅ Updated BDX.csv with pnl, cumulative_pnl, and drawdown.\n",
            "✅ Updated ALLE.csv with pnl, cumulative_pnl, and drawdown.\n",
            "✅ Updated AET.csv with pnl, cumulative_pnl, and drawdown.\n",
            "✅ Updated ABC.csv with pnl, cumulative_pnl, and drawdown.\n",
            "✅ Updated ANDV.csv with pnl, cumulative_pnl, and drawdown.\n",
            "✅ Updated AMD.csv with pnl, cumulative_pnl, and drawdown.\n",
            "✅ Updated AAL.csv with pnl, cumulative_pnl, and drawdown.\n",
            "✅ Updated AME.csv with pnl, cumulative_pnl, and drawdown.\n",
            "✅ Updated AVGO.csv with pnl, cumulative_pnl, and drawdown.\n",
            "✅ Updated AON.csv with pnl, cumulative_pnl, and drawdown.\n",
            "✅ Updated BAX.csv with pnl, cumulative_pnl, and drawdown.\n",
            "✅ Updated ADS.csv with pnl, cumulative_pnl, and drawdown.\n",
            "✅ Updated BLL.csv with pnl, cumulative_pnl, and drawdown.\n",
            " All files in 'monthData/' processed safely.\n"
          ]
        }
      ]
    },
    {
      "cell_type": "code",
      "source": [],
      "metadata": {
        "id": "m-9S8QYiHsHT"
      },
      "execution_count": null,
      "outputs": []
    }
  ]
}